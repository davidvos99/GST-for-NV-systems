{
 "cells": [
  {
   "cell_type": "code",
   "execution_count": 1,
   "metadata": {},
   "outputs": [],
   "source": [
    "#import mah baby\n",
    "import GSTBlochWidget as bw\n",
    "#and this guy\n",
    "import pygsti\n",
    "from qiskit.circuit.library import XGate, YGate"
   ]
  },
  {
   "cell_type": "code",
   "execution_count": 2,
   "metadata": {
    "pycharm": {
     "name": "#%%\n"
    }
   },
   "outputs": [],
   "source": [
    "#Definitions\n",
    "results_nit_init = pygsti.io.read_results_from_dir(\"results/data_nitrogen_initialised\",\"GateSetTomography\")\n",
    "gi_nit_init = results_nit_init.estimates['GateSetTomography'].models['final iteration estimate'].__getitem__(('Gi', 0))\n",
    "gxpi2_nit_init  = results_nit_init.estimates['GateSetTomography'].models['final iteration estimate'].__getitem__(('Gxpi2', 0))\n",
    "gypi2_nit_init  = results_nit_init.estimates['GateSetTomography'].models['final iteration estimate'].__getitem__(('Gypi2', 0))\n",
    "gxpi_nit_init  = results_nit_init.estimates['GateSetTomography'].models['final iteration estimate'].__getitem__(('Gxpi', 0))\n",
    "gypi_nit_init  = results_nit_init.estimates['GateSetTomography'].models['final iteration estimate'].__getitem__(('Gypi', 0))\n",
    "\n",
    "#hihi nit not funny name hihi\n",
    "results_nit_not_init = pygsti.io.read_results_from_dir(\"results/data_nitrogen_not_initialised\",\"GateSetTomography\")\n",
    "gi_nit_not_init = results_nit_not_init .estimates['GateSetTomography'].models['final iteration estimate'].__getitem__(('Gi', 0))\n",
    "gxpi2_nit_not_init  = results_nit_not_init.estimates['GateSetTomography'].models['final iteration estimate'].__getitem__(('Gxpi2', 0))\n",
    "gypi2_nit_not_init  = results_nit_not_init.estimates['GateSetTomography'].models['final iteration estimate'].__getitem__(('Gypi2', 0))\n",
    "gxpi_nit_not_init  = results_nit_not_init.estimates['GateSetTomography'].models['final iteration estimate'].__getitem__(('Gxpi', 0))\n",
    "gypi_nit_not_init  = results_nit_not_init.estimates['GateSetTomography'].models['final iteration estimate'].__getitem__(('Gypi', 0))"
   ]
  },
  {
   "cell_type": "code",
   "execution_count": 3,
   "metadata": {},
   "outputs": [],
   "source": [
    "IGate = [[1, 0], [0, 1]]\n",
    "target_gates_widget = bw.GSTBlochWidget(['I', 'X^1/2', 'Y^1/2', 'X', 'Y'], \n",
    "                                  [bw.gi, bw.gxpi2, bw.gypi2, bw.gxpi, bw.gypi],\n",
    "                                  [IGate, XGate().power(1/2), YGate().power(1/2), XGate(), YGate()]\n",
    "                                  ,\"widget_circuits//target_gates//\")\n",
    "nitrogen_init_widget = bw.GSTBlochWidget(['I', 'X^1/2', 'Y^1/2', 'X', 'Y'], \n",
    "                                   [gi_nit_init, gxpi2_nit_init, gypi2_nit_init, gxpi_nit_init, gypi_nit_init],\n",
    "                                   [IGate, XGate().power(1/2), YGate().power(1/2), XGate(), YGate()]\n",
    "                                   ,\"widget_circuits//nit_init//\")\n",
    "nitrogen_not_init_widget = bw.GSTBlochWidget(['I', 'X^1/2', 'Y^1/2', 'X', 'Y'], \n",
    "                                       [gi_nit_not_init, gxpi2_nit_not_init, gypi2_nit_not_init, gxpi_nit_not_init, gypi_nit_not_init],\n",
    "                                       [IGate, XGate().power(1/2), YGate().power(1/2), XGate(), YGate()]\n",
    "                                       ,\"widget_circuits//nit_not_init//\")"
   ]
  },
  {
   "cell_type": "code",
   "execution_count": 4,
   "metadata": {},
   "outputs": [
    {
     "name": "stdout",
     "output_type": "stream",
     "text": [
      "Target Gate Widget:\n"
     ]
    },
    {
     "data": {
      "application/vnd.jupyter.widget-view+json": {
       "model_id": "83a207e9d3244240aa0d3cf946d21f35",
       "version_major": 2,
       "version_minor": 0
      },
      "text/plain": [
       "HBox(children=(Output(layout=Layout(border='1px solid black'), outputs=({'output_type': 'stream', 'name': 'std…"
      ]
     },
     "metadata": {},
     "output_type": "display_data"
    },
    {
     "data": {
      "application/vnd.jupyter.widget-view+json": {
       "model_id": "618b3920992c4e509e6e6b93962004db",
       "version_major": 2,
       "version_minor": 0
      },
      "text/plain": [
       "HBox(children=(Button(description='I', layout=Layout(height='4em', width='5em'), style=ButtonStyle()), Button(…"
      ]
     },
     "metadata": {},
     "output_type": "display_data"
    },
    {
     "data": {
      "application/vnd.jupyter.widget-view+json": {
       "model_id": "29c17b53968040338899228862b91744",
       "version_major": 2,
       "version_minor": 0
      },
      "text/plain": [
       "Image(value=b'\\x89PNG\\r\\n\\x1a\\n\\x00\\x00\\x00\\rIHDR\\x00\\x00\\x01Y\\x00\\x00\\x01Y\\x08\\x06\\x00\\x00\\x002\\xf2\\\\\\xdb\\x00…"
      ]
     },
     "metadata": {},
     "output_type": "display_data"
    }
   ],
   "source": [
    "print(\"Target Gate Widget:\")\n",
    "target_gates_widget.render_widget()\n"
   ]
  },
  {
   "cell_type": "code",
   "execution_count": 5,
   "metadata": {
    "scrolled": false
   },
   "outputs": [
    {
     "name": "stdout",
     "output_type": "stream",
     "text": [
      "Nitrogen Init Estimated Gate Widget:\n"
     ]
    },
    {
     "data": {
      "application/vnd.jupyter.widget-view+json": {
       "model_id": "15acf3918cc44f85a7d76c92aa60e995",
       "version_major": 2,
       "version_minor": 0
      },
      "text/plain": [
       "HBox(children=(Output(layout=Layout(border='1px solid black'), outputs=({'output_type': 'stream', 'name': 'std…"
      ]
     },
     "metadata": {},
     "output_type": "display_data"
    },
    {
     "data": {
      "application/vnd.jupyter.widget-view+json": {
       "model_id": "047f3e3c7be34f98a66916529368aa40",
       "version_major": 2,
       "version_minor": 0
      },
      "text/plain": [
       "HBox(children=(Button(description='I', layout=Layout(height='4em', width='5em'), style=ButtonStyle()), Button(…"
      ]
     },
     "metadata": {},
     "output_type": "display_data"
    },
    {
     "data": {
      "application/vnd.jupyter.widget-view+json": {
       "model_id": "46bbf7239f864eceb827f1abc1a77fbc",
       "version_major": 2,
       "version_minor": 0
      },
      "text/plain": [
       "Image(value=b'\\x89PNG\\r\\n\\x1a\\n\\x00\\x00\\x00\\rIHDR\\x00\\x00\\x01 \\x00\\x00\\x01 \\x08\\x06\\x00\\x00\\x00\\x14\\x83\\xae\\x8…"
      ]
     },
     "metadata": {},
     "output_type": "display_data"
    }
   ],
   "source": [
    "print(\"Nitrogen Init Estimated Gate Widget:\")\n",
    "nitrogen_init_widget.render_widget()"
   ]
  },
  {
   "cell_type": "code",
   "execution_count": 6,
   "metadata": {},
   "outputs": [
    {
     "name": "stdout",
     "output_type": "stream",
     "text": [
      "Nitrogen Not Init Estimated Gate Widget:\n"
     ]
    },
    {
     "data": {
      "application/vnd.jupyter.widget-view+json": {
       "model_id": "04eb95ddcda5413cb5b2f1789fc2f0c4",
       "version_major": 2,
       "version_minor": 0
      },
      "text/plain": [
       "HBox(children=(Output(layout=Layout(border='1px solid black'), outputs=({'output_type': 'stream', 'name': 'std…"
      ]
     },
     "metadata": {},
     "output_type": "display_data"
    },
    {
     "data": {
      "application/vnd.jupyter.widget-view+json": {
       "model_id": "537ed219fee84ca0800927d84be704f7",
       "version_major": 2,
       "version_minor": 0
      },
      "text/plain": [
       "HBox(children=(Button(description='I', layout=Layout(height='4em', width='5em'), style=ButtonStyle()), Button(…"
      ]
     },
     "metadata": {},
     "output_type": "display_data"
    },
    {
     "data": {
      "application/vnd.jupyter.widget-view+json": {
       "model_id": "ad73f24d93b14f1ab777bb14bc305450",
       "version_major": 2,
       "version_minor": 0
      },
      "text/plain": [
       "Image(value=b'\\x89PNG\\r\\n\\x1a\\n\\x00\\x00\\x00\\rIHDR\\x00\\x00\\x01 \\x00\\x00\\x01 \\x08\\x06\\x00\\x00\\x00\\x14\\x83\\xae\\x8…"
      ]
     },
     "metadata": {},
     "output_type": "display_data"
    }
   ],
   "source": [
    "print(\"Nitrogen Not Init Estimated Gate Widget:\")\n",
    "nitrogen_not_init_widget.render_widget()"
   ]
  },
  {
   "cell_type": "code",
   "execution_count": null,
   "metadata": {},
   "outputs": [],
   "source": []
  },
  {
   "cell_type": "code",
   "execution_count": null,
   "metadata": {},
   "outputs": [],
   "source": []
  },
  {
   "cell_type": "code",
   "execution_count": null,
   "metadata": {},
   "outputs": [],
   "source": []
  },
  {
   "cell_type": "code",
   "execution_count": null,
   "metadata": {},
   "outputs": [],
   "source": []
  }
 ],
 "metadata": {
  "celltoolbar": "Geen",
  "kernelspec": {
   "display_name": "Python 3",
   "language": "python",
   "name": "python3"
  },
  "language_info": {
   "codemirror_mode": {
    "name": "ipython",
    "version": 3
   },
   "file_extension": ".py",
   "mimetype": "text/x-python",
   "name": "python",
   "nbconvert_exporter": "python",
   "pygments_lexer": "ipython3",
   "version": "3.8.5"
  }
 },
 "nbformat": 4,
 "nbformat_minor": 1
}
