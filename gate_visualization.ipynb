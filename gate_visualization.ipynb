{
 "cells": [
  {
   "cell_type": "code",
   "execution_count": 1,
   "metadata": {},
   "outputs": [],
   "source": [
    "#import mah baby\n",
    "import GSTBlochWidget as bw\n",
    "#and this guy\n",
    "import pygsti\n",
    "from qiskit.circuit.library import XGate, YGate"
   ]
  },
  {
   "cell_type": "code",
   "execution_count": 13,
   "metadata": {
    "pycharm": {
     "name": "#%%\n"
    }
   },
   "outputs": [],
   "source": [
    "#Definitions\n",
    "results_nit_init = pygsti.io.read_results_from_dir(\"results/data_nitrogen_initialised\",\"GateSetTomography\")\n",
    "gi_nit_init = results_nit_init.estimates['GateSetTomography'].models['stdgaugeopt'].__getitem__(('Gi', 0))\n",
    "gxpi2_nit_init  = results_nit_init.estimates['GateSetTomography'].models['stdgaugeopt'].__getitem__(('Gxpi2', 0))\n",
    "gypi2_nit_init  = results_nit_init.estimates['GateSetTomography'].models['stdgaugeopt'].__getitem__(('Gypi2', 0))\n",
    "gxpi_nit_init  = results_nit_init.estimates['GateSetTomography'].models['stdgaugeopt].__getitem__(('Gxpi', 0))\n",
    "gypi_nit_init  = results_nit_init.estimates['GateSetTomography'].models['stdgaugeopt].__getitem__(('Gypi', 0))\n",
    "\n",
    "#hihi nit not funny name hihi\n",
    "results_nit_not_init = pygsti.io.read_results_from_dir(\"results_used_for_paper/3_gates_echo/exp/CPTP/init_state=0\",\"GateSetTomography\")\n",
    "gi_nit_not_init = results_nit_not_init .estimates['GateSetTomography'].models['final iteration estimate'].__getitem__(('Gi', 0))\n",
    "gxpi2_nit_not_init  = results_nit_not_init.estimates['GateSetTomography'].models['stdgaugeopt'].__getitem__(('Gxpi2', 0))\n",
    "gypi2_nit_not_init  = results_nit_not_init.estimates['GateSetTomography'].models['stdgaugeopt'].__getitem__(('Gypi2', 0))\n",
    "#gxpi_nit_not_init  = results_nit_not_init.estimates['GateSetTomography'].models['final iteration estimate'].__getitem__(('Gxpi', 0))\n",
    "#gypi_nit_not_init  = results_nit_not_init.estimates['GateSetTomography'].models['final iteration estimate'].__getitem__(('Gypi', 0))"
   ]
  },
  {
   "cell_type": "code",
   "execution_count": 14,
   "metadata": {},
   "outputs": [],
   "source": [
    "IGate = [[1, 0], [0, 1]]\n",
    "target_gates_widget = bw.GSTBlochWidget(['I', 'X^1/2', 'Y^1/2', 'X', 'Y'], \n",
    "                                  [bw.gi, bw.gxpi2, bw.gypi2, bw.gxpi, bw.gypi],\n",
    "                                  [IGate, XGate().power(1/2), YGate().power(1/2), XGate(), YGate()]\n",
    "                                  ,\"widget_circuits//target_gates//\")\n",
    "nitrogen_init_widget = bw.GSTBlochWidget(['I', 'X^1/2', 'Y^1/2', 'X', 'Y'], \n",
    "                                   [gi_nit_init, gxpi2_nit_init, gypi2_nit_init, gxpi_nit_init, gypi_nit_init],\n",
    "                                   [IGate, XGate().power(1/2), YGate().power(1/2), XGate(), YGate()]\n",
    "                                   ,\"widget_circuits//nit_init//\")\n",
    "nitrogen_not_init_widget = bw.GSTBlochWidget(['I', 'X^1/2', 'Y^1/2'], \n",
    "                                       [gi_nit_not_init, gxpi2_nit_not_init, gypi2_nit_not_init],\n",
    "                                       [IGate, XGate().power(1/2), YGate().power(1/2)]\n",
    "                                       ,\"widget_circuits//nit_not_init//\")"
   ]
  },
  {
   "cell_type": "code",
   "execution_count": 4,
   "metadata": {},
   "outputs": [
    {
     "name": "stdout",
     "output_type": "stream",
     "text": [
      "Target Gate Widget:\n"
     ]
    },
    {
     "data": {
      "application/vnd.jupyter.widget-view+json": {
       "model_id": "af4e055fc4ec4d50b21f5f4e42dfca91",
       "version_major": 2,
       "version_minor": 0
      },
      "text/plain": [
       "HBox(children=(Output(layout=Layout(border='1px solid black'), outputs=({'output_type': 'stream', 'name': 'std…"
      ]
     },
     "metadata": {},
     "output_type": "display_data"
    },
    {
     "data": {
      "application/vnd.jupyter.widget-view+json": {
       "model_id": "0cf672f4b5b84573b0b22be3b8b15601",
       "version_major": 2,
       "version_minor": 0
      },
      "text/plain": [
       "HBox(children=(Button(description='I', layout=Layout(height='4em', width='5em'), style=ButtonStyle()), Button(…"
      ]
     },
     "metadata": {},
     "output_type": "display_data"
    },
    {
     "data": {
      "application/vnd.jupyter.widget-view+json": {
       "model_id": "037ef4dfc8214cc08e362c36e4312944",
       "version_major": 2,
       "version_minor": 0
      },
      "text/plain": [
       "Image(value=b'\\x89PNG\\r\\n\\x1a\\n\\x00\\x00\\x00\\rIHDR\\x00\\x00\\x01Y\\x00\\x00\\x01Y\\x08\\x06\\x00\\x00\\x002\\xf2\\\\\\xdb\\x00…"
      ]
     },
     "metadata": {},
     "output_type": "display_data"
    }
   ],
   "source": [
    "print(\"Target Gate Widget:\")\n",
    "target_gates_widget.render_widget()\n"
   ]
  },
  {
   "cell_type": "code",
   "execution_count": 5,
   "metadata": {
    "scrolled": false
   },
   "outputs": [
    {
     "name": "stdout",
     "output_type": "stream",
     "text": [
      "Nitrogen Init Estimated Gate Widget:\n"
     ]
    },
    {
     "data": {
      "application/vnd.jupyter.widget-view+json": {
       "model_id": "18314fd96c70432c9cae127d33579e14",
       "version_major": 2,
       "version_minor": 0
      },
      "text/plain": [
       "HBox(children=(Output(layout=Layout(border='1px solid black'), outputs=({'output_type': 'stream', 'name': 'std…"
      ]
     },
     "metadata": {},
     "output_type": "display_data"
    },
    {
     "data": {
      "application/vnd.jupyter.widget-view+json": {
       "model_id": "70dbaa2ac2d94cf9a9b697ef6ed9a856",
       "version_major": 2,
       "version_minor": 0
      },
      "text/plain": [
       "HBox(children=(Button(description='I', layout=Layout(height='4em', width='5em'), style=ButtonStyle()), Button(…"
      ]
     },
     "metadata": {},
     "output_type": "display_data"
    },
    {
     "data": {
      "application/vnd.jupyter.widget-view+json": {
       "model_id": "a1c8d7e42a9941e79d5a7c07e48a6a77",
       "version_major": 2,
       "version_minor": 0
      },
      "text/plain": [
       "Image(value=b'\\x89PNG\\r\\n\\x1a\\n\\x00\\x00\\x00\\rIHDR\\x00\\x00\\x01 \\x00\\x00\\x01 \\x08\\x06\\x00\\x00\\x00\\x14\\x83\\xae\\x8…"
      ]
     },
     "metadata": {},
     "output_type": "display_data"
    }
   ],
   "source": [
    "print(\"Nitrogen Init Estimated Gate Widget:\")\n",
    "nitrogen_init_widget.render_widget()"
   ]
  },
  {
   "cell_type": "code",
   "execution_count": 6,
   "metadata": {},
   "outputs": [
    {
     "name": "stdout",
     "output_type": "stream",
     "text": [
      "Nitrogen Not Init Estimated Gate Widget:\n"
     ]
    },
    {
     "data": {
      "application/vnd.jupyter.widget-view+json": {
       "model_id": "27c2529a18a34901be2534f849cdf2c6",
       "version_major": 2,
       "version_minor": 0
      },
      "text/plain": [
       "HBox(children=(Output(layout=Layout(border='1px solid black'), outputs=({'output_type': 'stream', 'name': 'std…"
      ]
     },
     "metadata": {},
     "output_type": "display_data"
    },
    {
     "data": {
      "application/vnd.jupyter.widget-view+json": {
       "model_id": "401ac76f806e4b05ac1c84969d5c1ac4",
       "version_major": 2,
       "version_minor": 0
      },
      "text/plain": [
       "HBox(children=(Button(description='I', layout=Layout(height='4em', width='5em'), style=ButtonStyle()), Button(…"
      ]
     },
     "metadata": {},
     "output_type": "display_data"
    },
    {
     "data": {
      "application/vnd.jupyter.widget-view+json": {
       "model_id": "3fab37d77dfb4e85b9fedb7cf08bb516",
       "version_major": 2,
       "version_minor": 0
      },
      "text/plain": [
       "Image(value=b'\\x89PNG\\r\\n\\x1a\\n\\x00\\x00\\x00\\rIHDR\\x00\\x00\\x01 \\x00\\x00\\x01 \\x08\\x06\\x00\\x00\\x00\\x14\\x83\\xae\\x8…"
      ]
     },
     "metadata": {},
     "output_type": "display_data"
    }
   ],
   "source": [
    "print(\"Nitrogen Not Init Estimated Gate Widget:\")\n",
    "nitrogen_not_init_widget.render_widget()"
   ]
  },
  {
   "cell_type": "code",
   "execution_count": 7,
   "metadata": {},
   "outputs": [],
   "source": [
    " results_m1 = pygsti.io.read_results_from_dir(\"results_used_for_paper/3_gates_echo/exp/CPTP/init_state=m1\",\"GateSetTomography\")\n",
    "gi_m1 = results_m1 .estimates['GateSetTomography'].models['stdgaugeopt'].__getitem__(('Gi', 0))\n",
    "gxpi2_m1  = results_m1.estimates['GateSetTomography'].models['stdgaugeopt'].__getitem__(('Gxpi2', 0))\n",
    "gypi2_m1  = results_m1.estimates['GateSetTomography'].models['stdgaugeopt'].__getitem__(('Gypi2', 0))\n",
    "\n",
    "results_p1 = pygsti.io.read_results_from_dir(\"results_used_for_paper/3_gates_echo/exp/CPTP/init_state=p1\",\"GateSetTomography\")\n",
    "gi_p1 = results_p1 .estimates['GateSetTomography'].models['stdgaugeopt'].__getitem__(('Gi', 0))\n",
    "gxpi2_p1  = results_p1.estimates['GateSetTomography'].models['stdgaugeopt'].__getitem__(('Gxpi2', 0))\n",
    "gypi2_p1  = results_p1.estimates['GateSetTomography'].models['stdgaugeopt'].__getitem__(('Gypi2', 0))\n"
   ]
  },
  {
   "cell_type": "code",
   "execution_count": 11,
   "metadata": {},
   "outputs": [],
   "source": [
    "IGate = [[1, 0], [0, 1]]\n",
    "nitrogen_m1_widget = bw.GSTBlochWidget(['I', 'X^1/2', 'Y^1/2'], \n",
    "                                       [gi_m1, gxpi2_m1, gypi2_m1],\n",
    "                                       [IGate, XGate().power(1/2), YGate().power(1/2)]\n",
    "                                       ,\"widget_circuits//m1//\")\n",
    "\n",
    "nitrogen_p1_widget = bw.GSTBlochWidget(['I', 'X^1/2', 'Y^1/2'], \n",
    "                                       [gi_p1, gxpi2_p1, gypi2_p1],\n",
    "                                       [IGate, XGate().power(1/2), YGate().power(1/2)]\n",
    "                                       ,\"widget_circuits//m1//\")\n"
   ]
  },
  {
   "cell_type": "code",
   "execution_count": 9,
   "metadata": {},
   "outputs": [
    {
     "name": "stdout",
     "output_type": "stream",
     "text": [
      "m1 Widget:\n"
     ]
    },
    {
     "data": {
      "application/vnd.jupyter.widget-view+json": {
       "model_id": "58ff7c9e84e0439aa011c33d90414581",
       "version_major": 2,
       "version_minor": 0
      },
      "text/plain": [
       "HBox(children=(Output(layout=Layout(border='1px solid black'), outputs=({'output_type': 'stream', 'name': 'std…"
      ]
     },
     "metadata": {},
     "output_type": "display_data"
    },
    {
     "data": {
      "application/vnd.jupyter.widget-view+json": {
       "model_id": "ea0c1983a0d24e33a6dd046d742b328b",
       "version_major": 2,
       "version_minor": 0
      },
      "text/plain": [
       "HBox(children=(Button(description='I', layout=Layout(height='4em', width='5em'), style=ButtonStyle()), Button(…"
      ]
     },
     "metadata": {},
     "output_type": "display_data"
    },
    {
     "data": {
      "application/vnd.jupyter.widget-view+json": {
       "model_id": "9bdb003be4434adc9be693e9d7d928d3",
       "version_major": 2,
       "version_minor": 0
      },
      "text/plain": [
       "Image(value=b'\\x89PNG\\r\\n\\x1a\\n\\x00\\x00\\x00\\rIHDR\\x00\\x00\\x01 \\x00\\x00\\x01 \\x08\\x06\\x00\\x00\\x00\\x14\\x83\\xae\\x8…"
      ]
     },
     "metadata": {},
     "output_type": "display_data"
    }
   ],
   "source": [
    "print(\"m1 Widget:\")\n",
    "nitrogen_m1_widget.render_widget()\n"
   ]
  },
  {
   "cell_type": "code",
   "execution_count": 10,
   "metadata": {},
   "outputs": [
    {
     "name": "stdout",
     "output_type": "stream",
     "text": [
      "p1 Widget:\n"
     ]
    },
    {
     "data": {
      "application/vnd.jupyter.widget-view+json": {
       "model_id": "3328e08ec0f94056ad45bfd297b4b7db",
       "version_major": 2,
       "version_minor": 0
      },
      "text/plain": [
       "HBox(children=(Output(layout=Layout(border='1px solid black'), outputs=({'output_type': 'stream', 'name': 'std…"
      ]
     },
     "metadata": {},
     "output_type": "display_data"
    },
    {
     "data": {
      "application/vnd.jupyter.widget-view+json": {
       "model_id": "e47d94ee40c14b58b6d2a8e0787e5590",
       "version_major": 2,
       "version_minor": 0
      },
      "text/plain": [
       "HBox(children=(Button(description='I', layout=Layout(height='4em', width='5em'), style=ButtonStyle()), Button(…"
      ]
     },
     "metadata": {},
     "output_type": "display_data"
    },
    {
     "data": {
      "application/vnd.jupyter.widget-view+json": {
       "model_id": "6ffeafddf87b4e0abc772c8ba7848e41",
       "version_major": 2,
       "version_minor": 0
      },
      "text/plain": [
       "Image(value=b'\\x89PNG\\r\\n\\x1a\\n\\x00\\x00\\x00\\rIHDR\\x00\\x00\\x01 \\x00\\x00\\x01 \\x08\\x06\\x00\\x00\\x00\\x14\\x83\\xae\\x8…"
      ]
     },
     "metadata": {},
     "output_type": "display_data"
    }
   ],
   "source": [
    "print(\"p1 Widget:\")\n",
    "nitrogen_p1_widget.render_widget()\n"
   ]
  },
  {
   "cell_type": "code",
   "execution_count": null,
   "metadata": {},
   "outputs": [],
   "source": []
  }
 ],
 "metadata": {
  "celltoolbar": "Geen",
  "kernelspec": {
   "display_name": "Python 3",
   "language": "python",
   "name": "python3"
  },
  "language_info": {
   "codemirror_mode": {
    "name": "ipython",
    "version": 3
   },
   "file_extension": ".py",
   "mimetype": "text/x-python",
   "name": "python",
   "nbconvert_exporter": "python",
   "pygments_lexer": "ipython3",
   "version": "3.8.5"
  }
 },
 "nbformat": 4,
 "nbformat_minor": 1
}
