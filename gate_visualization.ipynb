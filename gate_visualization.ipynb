{
 "cells": [
  {
   "cell_type": "code",
   "execution_count": 1,
   "metadata": {},
   "outputs": [],
   "source": [
    "#import mah baby\n",
    "import GSTBlochWidget as bw\n",
    "#and this guy\n",
    "import pygsti\n",
    "from qiskit.circuit.library import XGate, YGate"
   ]
  },
  {
   "cell_type": "code",
   "execution_count": 2,
   "metadata": {
    "pycharm": {
     "name": "#%%\n"
    }
   },
   "outputs": [],
   "source": [
    "#Definitions\n",
    "results_nit_init = pygsti.io.read_results_from_dir(\"results/data_nitrogen_initialised\",\"GateSetTomography\")\n",
    "gi_nit_init = results_nit_init.estimates['GateSetTomography'].models['final iteration estimate'].__getitem__(('Gi', 0))\n",
    "gxpi2_nit_init  = results_nit_init.estimates['GateSetTomography'].models['final iteration estimate'].__getitem__(('Gxpi2', 0))\n",
    "gypi2_nit_init  = results_nit_init.estimates['GateSetTomography'].models['final iteration estimate'].__getitem__(('Gypi2', 0))\n",
    "gxpi_nit_init  = results_nit_init.estimates['GateSetTomography'].models['final iteration estimate'].__getitem__(('Gxpi', 0))\n",
    "gypi_nit_init  = results_nit_init.estimates['GateSetTomography'].models['final iteration estimate'].__getitem__(('Gypi', 0))\n",
    "\n",
    "#hihi nit not funny name hihi\n",
    "results_nit_not_init = pygsti.io.read_results_from_dir(\"results_used_for_paper/3_gates_echo/exp/CPTP/init_state=0\",\"GateSetTomography\")\n",
    "gi_nit_not_init = results_nit_not_init .estimates['GateSetTomography'].models['final iteration estimate'].__getitem__(('Gi', 0))\n",
    "gxpi2_nit_not_init  = results_nit_not_init.estimates['GateSetTomography'].models['final iteration estimate'].__getitem__(('Gxpi2', 0))\n",
    "gypi2_nit_not_init  = results_nit_not_init.estimates['GateSetTomography'].models['final iteration estimate'].__getitem__(('Gypi2', 0))\n",
    "#gxpi_nit_not_init  = results_nit_not_init.estimates['GateSetTomography'].models['final iteration estimate'].__getitem__(('Gxpi', 0))\n",
    "#gypi_nit_not_init  = results_nit_not_init.estimates['GateSetTomography'].models['final iteration estimate'].__getitem__(('Gypi', 0))"
   ]
  },
  {
   "cell_type": "code",
   "execution_count": 7,
   "metadata": {},
   "outputs": [],
   "source": [
    "IGate = [[1, 0], [0, 1]]\n",
    "target_gates_widget = bw.GSTBlochWidget(['I', 'X^1/2', 'Y^1/2', 'X', 'Y'], \n",
    "                                  [bw.gi, bw.gxpi2, bw.gypi2, bw.gxpi, bw.gypi],\n",
    "                                  [IGate, XGate().power(1/2), YGate().power(1/2), XGate(), YGate()]\n",
    "                                  ,\"widget_circuits//target_gates//\")\n",
    "nitrogen_init_widget = bw.GSTBlochWidget(['I', 'X^1/2', 'Y^1/2', 'X', 'Y'], \n",
    "                                   [gi_nit_init, gxpi2_nit_init, gypi2_nit_init, gxpi_nit_init, gypi_nit_init],\n",
    "                                   [IGate, XGate().power(1/2), YGate().power(1/2), XGate(), YGate()]\n",
    "                                   ,\"widget_circuits//nit_init//\")\n",
    "nitrogen_not_init_widget = bw.GSTBlochWidget(['I', 'X^1/2', 'Y^1/2'], \n",
    "                                       [gi_nit_not_init, gxpi2_nit_not_init, gypi2_nit_not_init],\n",
    "                                       [IGate, XGate().power(1/2), YGate().power(1/2)]\n",
    "                                       ,\"widget_circuits//nit_not_init//\")"
   ]
  },
  {
   "cell_type": "code",
   "execution_count": 8,
   "metadata": {},
   "outputs": [
    {
     "name": "stdout",
     "output_type": "stream",
     "text": [
      "Target Gate Widget:\n"
     ]
    },
    {
     "data": {
      "application/vnd.jupyter.widget-view+json": {
       "model_id": "6bd53e494b484204ac047357298480e6",
       "version_major": 2,
       "version_minor": 0
      },
      "text/plain": [
       "HBox(children=(Output(layout=Layout(border='1px solid black'), outputs=({'output_type': 'stream', 'name': 'std…"
      ]
     },
     "metadata": {},
     "output_type": "display_data"
    },
    {
     "data": {
      "application/vnd.jupyter.widget-view+json": {
       "model_id": "52a290b5489a4dd9ab5ea0ef1a388c21",
       "version_major": 2,
       "version_minor": 0
      },
      "text/plain": [
       "HBox(children=(Button(description='I', layout=Layout(height='4em', width='5em'), style=ButtonStyle()), Button(…"
      ]
     },
     "metadata": {},
     "output_type": "display_data"
    },
    {
     "data": {
      "application/vnd.jupyter.widget-view+json": {
       "model_id": "1ae99d87172d4051b59c60b7defb04af",
       "version_major": 2,
       "version_minor": 0
      },
      "text/plain": [
       "Image(value=b'\\x89PNG\\r\\n\\x1a\\n\\x00\\x00\\x00\\rIHDR\\x00\\x00\\x01 \\x00\\x00\\x01 \\x08\\x06\\x00\\x00\\x00\\x14\\x83\\xae\\x8…"
      ]
     },
     "metadata": {},
     "output_type": "display_data"
    }
   ],
   "source": [
    "print(\"Target Gate Widget:\")\n",
    "target_gates_widget.render_widget()\n"
   ]
  },
  {
   "cell_type": "code",
   "execution_count": 9,
   "metadata": {
    "scrolled": false
   },
   "outputs": [
    {
     "name": "stdout",
     "output_type": "stream",
     "text": [
      "Nitrogen Init Estimated Gate Widget:\n"
     ]
    },
    {
     "data": {
      "application/vnd.jupyter.widget-view+json": {
       "model_id": "edee911692084de3af203ad445c54a57",
       "version_major": 2,
       "version_minor": 0
      },
      "text/plain": [
       "HBox(children=(Output(layout=Layout(border='1px solid black'), outputs=({'output_type': 'stream', 'name': 'std…"
      ]
     },
     "metadata": {},
     "output_type": "display_data"
    },
    {
     "data": {
      "application/vnd.jupyter.widget-view+json": {
       "model_id": "39ab71e8ab45439395c29e11af785378",
       "version_major": 2,
       "version_minor": 0
      },
      "text/plain": [
       "HBox(children=(Button(description='I', layout=Layout(height='4em', width='5em'), style=ButtonStyle()), Button(…"
      ]
     },
     "metadata": {},
     "output_type": "display_data"
    },
    {
     "data": {
      "application/vnd.jupyter.widget-view+json": {
       "model_id": "e0e5aa48d5d24f18b0b8b4427727e3c0",
       "version_major": 2,
       "version_minor": 0
      },
      "text/plain": [
       "Image(value=b'\\x89PNG\\r\\n\\x1a\\n\\x00\\x00\\x00\\rIHDR\\x00\\x00\\x01 \\x00\\x00\\x01 \\x08\\x06\\x00\\x00\\x00\\x14\\x83\\xae\\x8…"
      ]
     },
     "metadata": {},
     "output_type": "display_data"
    }
   ],
   "source": [
    "print(\"Nitrogen Init Estimated Gate Widget:\")\n",
    "nitrogen_init_widget.render_widget()"
   ]
  },
  {
   "cell_type": "code",
   "execution_count": 10,
   "metadata": {},
   "outputs": [
    {
     "name": "stdout",
     "output_type": "stream",
     "text": [
      "Nitrogen Not Init Estimated Gate Widget:\n"
     ]
    },
    {
     "data": {
      "application/vnd.jupyter.widget-view+json": {
       "model_id": "eecf0d7cab91420e90f084c3c28d5ce9",
       "version_major": 2,
       "version_minor": 0
      },
      "text/plain": [
       "HBox(children=(Output(layout=Layout(border='1px solid black'), outputs=({'output_type': 'stream', 'name': 'std…"
      ]
     },
     "metadata": {},
     "output_type": "display_data"
    },
    {
     "data": {
      "application/vnd.jupyter.widget-view+json": {
       "model_id": "c49aae52b4ca4f53b8598573fbbbe799",
       "version_major": 2,
       "version_minor": 0
      },
      "text/plain": [
       "HBox(children=(Button(description='I', layout=Layout(height='4em', width='5em'), style=ButtonStyle()), Button(…"
      ]
     },
     "metadata": {},
     "output_type": "display_data"
    },
    {
     "data": {
      "application/vnd.jupyter.widget-view+json": {
       "model_id": "2356d8ae904047099d62cadf24907306",
       "version_major": 2,
       "version_minor": 0
      },
      "text/plain": [
       "Image(value=b'\\x89PNG\\r\\n\\x1a\\n\\x00\\x00\\x00\\rIHDR\\x00\\x00\\x01 \\x00\\x00\\x01 \\x08\\x06\\x00\\x00\\x00\\x14\\x83\\xae\\x8…"
      ]
     },
     "metadata": {},
     "output_type": "display_data"
    }
   ],
   "source": [
    "print(\"Nitrogen Not Init Estimated Gate Widget:\")\n",
    "nitrogen_not_init_widget.render_widget()"
   ]
  },
  {
   "cell_type": "code",
   "execution_count": null,
   "metadata": {},
   "outputs": [],
   "source": [
    "  "
   ]
  },
  {
   "cell_type": "code",
   "execution_count": 20,
   "metadata": {},
   "outputs": [],
   "source": []
  },
  {
   "cell_type": "code",
   "execution_count": 21,
   "metadata": {},
   "outputs": [],
   "source": []
  },
  {
   "cell_type": "code",
   "execution_count": null,
   "metadata": {},
   "outputs": [],
   "source": []
  },
  {
   "cell_type": "code",
   "execution_count": null,
   "metadata": {},
   "outputs": [],
   "source": []
  }
 ],
 "metadata": {
  "celltoolbar": "Geen",
  "kernelspec": {
   "display_name": "Python 3",
   "language": "python",
   "name": "python3"
  },
  "language_info": {
   "codemirror_mode": {
    "name": "ipython",
    "version": 3
   },
   "file_extension": ".py",
   "mimetype": "text/x-python",
   "name": "python",
   "nbconvert_exporter": "python",
   "pygments_lexer": "ipython3",
   "version": "3.8.5"
  }
 },
 "nbformat": 4,
 "nbformat_minor": 1
}
